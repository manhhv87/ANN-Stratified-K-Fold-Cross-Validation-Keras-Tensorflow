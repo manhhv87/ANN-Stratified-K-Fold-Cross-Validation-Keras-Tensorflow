{
  "nbformat": 4,
  "nbformat_minor": 0,
  "metadata": {
    "colab": {
      "name": "Experiment.ipynb",
      "provenance": [],
      "collapsed_sections": [],
      "authorship_tag": "ABX9TyMjOABL58P9WFavhTPw81pf",
      "include_colab_link": true
    },
    "kernelspec": {
      "name": "python3",
      "display_name": "Python 3"
    },
    "language_info": {
      "name": "python"
    }
  },
  "cells": [
    {
      "cell_type": "markdown",
      "metadata": {
        "id": "view-in-github",
        "colab_type": "text"
      },
      "source": [
        "<a href=\"https://colab.research.google.com/github/manhhv87/ANN-Stratified-K-Fold-Cross-Validation-Keras-Tensorflow/blob/master/Experiment.ipynb\" target=\"_parent\"><img src=\"https://colab.research.google.com/assets/colab-badge.svg\" alt=\"Open In Colab\"/></a>"
      ]
    },
    {
      "cell_type": "markdown",
      "metadata": {
        "id": "Z30E4wGgnSPi"
      },
      "source": [
        "# **Experiment #1: No learning rate decay/schedule**\n",
        "\n",
        "As a baseline, let’s first train our ResNet model on CIFAR-10 with no learning rate decay or schedule"
      ]
    },
    {
      "cell_type": "code",
      "metadata": {
        "id": "qOj7uHwSnrf1"
      },
      "source": [
        "!python3 train.py --train-plot output/train_no_schedule.png"
      ],
      "execution_count": null,
      "outputs": []
    },
    {
      "cell_type": "markdown",
      "metadata": {
        "id": "WtNUuSrdoGRL"
      },
      "source": [
        "# **Experiment: #2: Keras standard optimizer learning rate decay**\n",
        "In our second experiment we are going to use Keras’ standard decay-based learning rate schedule"
      ]
    },
    {
      "cell_type": "code",
      "metadata": {
        "id": "PrJdo-lloI4j"
      },
      "source": [
        "!python3 train.py --schedule standard --train-plot output/train_standard_schedule.png"
      ],
      "execution_count": null,
      "outputs": []
    },
    {
      "cell_type": "markdown",
      "metadata": {
        "id": "TWcZ7QBBoMHA"
      },
      "source": [
        "# **Experiment #3: Step-based learning rate schedule results**\n",
        "Let’s go ahead and perform step-based learning rate scheduling which will drop our learning rate by a factor of 0.25 every 15 epochs"
      ]
    },
    {
      "cell_type": "code",
      "metadata": {
        "id": "AFgrf3mcocBn"
      },
      "source": [
        "!python3 train.py --schedule step --lr-plot output/lr_step_schedule.png --train-plot output/train_step_schedule.png"
      ],
      "execution_count": null,
      "outputs": []
    },
    {
      "cell_type": "markdown",
      "metadata": {
        "id": "IuPQgJisohT3"
      },
      "source": [
        "# **Experiment #4: Linear learning rate schedule results**\n",
        "Let’s try using a linear learning rate schedule with Keras by setting power=1.0"
      ]
    },
    {
      "cell_type": "code",
      "metadata": {
        "id": "uIn5z4MupBwp"
      },
      "source": [
        "!python3 train.py --schedule linear --lr-plot output/lr_linear_schedule.png --train-plot output/train_linear_schedule.png"
      ],
      "execution_count": null,
      "outputs": []
    },
    {
      "cell_type": "markdown",
      "metadata": {
        "id": "69PH7vf6pEw5"
      },
      "source": [
        "# **Experiment #5: Polynomial learning rate schedule results**\n",
        "\n",
        "As a final experiment let’s apply polynomial learning rate scheduling with Keras by setting power=5\n"
      ]
    },
    {
      "cell_type": "code",
      "metadata": {
        "id": "yzakl28LpZPh"
      },
      "source": [
        "!python3 train.py --schedule poly --lr-plot output/lr_poly_schedule.png --train-plot output/train_poly_schedule.png"
      ],
      "execution_count": null,
      "outputs": []
    }
  ]
}